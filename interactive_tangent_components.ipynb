{
 "cells": [
  {
   "cell_type": "code",
   "execution_count": 113,
   "metadata": {},
   "outputs": [],
   "source": [
    "# -----------------------------------------------------------\n",
    "# Simulates different quantities, such as the components of\n",
    "# the tangent vector, of a surface pushed along its \n",
    "# normal lines in the Euclidean case.\n",
    "#\n",
    "# (C) 2022 Florian Babisch, Tübingen, Germany\n",
    "# Released under CC-BY license\n",
    "# email flofe@t-online.de\n",
    "# -----------------------------------------------------------\n",
    "\n",
    "# This code uses the numpy convention for docstrings"
   ]
  },
  {
   "cell_type": "code",
   "execution_count": 114,
   "metadata": {},
   "outputs": [],
   "source": [
    "import numpy as np\n",
    "import matplotlib.pyplot as plt\n",
    "from ipywidgets import interact, interactive, fixed, interact_manual, IntSlider, HBox, VBox, Layout, Dropdown\n",
    "from IPython.display import display\n",
    "import ipywidgets as widgets\n",
    "import sympy as sy\n",
    "from sympy import *\n"
   ]
  },
  {
   "cell_type": "code",
   "execution_count": 115,
   "metadata": {},
   "outputs": [],
   "source": [
    "# SymPy symbols\n",
    "# In the following x cannot be used as a variable for anything else!\n",
    "x = Symbol('x')"
   ]
  },
  {
   "cell_type": "code",
   "execution_count": 116,
   "metadata": {},
   "outputs": [
    {
     "data": {
      "image/png": "[encoded data removed]",
      "text/plain": [
       "<Figure size 432x288 with 3 Axes>"
      ]
     },
     "metadata": {
      "needs_background": "light"
     },
     "output_type": "display_data"
    }
   ],
   "source": [
    "# Global figure\n",
    "# Set sharex to False if you want to save an image of only the first axis\n",
    "# Set it to True if you want to have both plots use the same axis\n",
    "fig, (ax1, ax2, ax3) = plt.subplots(3, sharex=False)"
   ]
  },
  {
   "cell_type": "code",
   "execution_count": 117,
   "metadata": {},
   "outputs": [],
   "source": [
    "def unit_tangent_vector(xValues, func, s):\n",
    "    \"\"\"Calculates the components of the normalized tangential vector of an \n",
    "        initial surfaces pushed along its normals.\n",
    "\n",
    "        Parameters\n",
    "        ----------\n",
    "        xValues : list\n",
    "            List of x-values.\n",
    "        func : SymPy type\n",
    "            Function that characterizes the initial surface.\n",
    "        s : float\n",
    "            Value of how far the initial surface is pushed along the normals.\n",
    "\n",
    "        Returns\n",
    "        -------\n",
    "        tuple \n",
    "            Normalized components of the tangent vector.\n",
    "    \"\"\"\n",
    "    funcPrime = func.diff(x)\n",
    "    func2Prime = funcPrime.diff(x)\n",
    "    npFunc = lambdify(x, func, 'numpy')\n",
    "    npFuncPrime = lambdify(x, funcPrime, 'numpy')\n",
    "    npFunc2Prime = lambdify(x, func2Prime, 'numpy')\n",
    "    denom = (1 + npFuncPrime(xValues)**2)**(3 / 2)\n",
    "    # signed curvature\n",
    "    k = npFunc2Prime(xValues) / denom\n",
    "    # critical coefficient\n",
    "    A = 1 -  k * s\n",
    "    c1 = A\n",
    "    c2 = A * npFuncPrime(xValues)\n",
    "    norm = np.sqrt(c1**2 + c2**2)\n",
    "    nc1 = c1 / norm\n",
    "    nc2 = c2 / norm\n",
    "    return nc1, nc2\n",
    "\n",
    "def critical_coeff(xValues, func, s):\n",
    "    \"\"\"Calculates the values of the critical coefficient as well as the \n",
    "        the signed curvature and chi which is the critical coefficient \n",
    "        divided by its absolute value.\n",
    "\n",
    "        Parameters\n",
    "        ----------\n",
    "        xValues : list\n",
    "            List of x-values.\n",
    "        func : SymPy type\n",
    "            Function that characterizes the initial surface.\n",
    "        s : float\n",
    "            Value of how far the initial surface is pushed along the normals.\n",
    "     \"\"\"\n",
    "    funcPrime = func.diff(x)\n",
    "    func2Prime = funcPrime.diff(x)\n",
    "    npFuncPrime = lambdify(x, funcPrime, 'numpy')\n",
    "    npFunc2Prime = lambdify(x, func2Prime, 'numpy')\n",
    "    denom = (1 + npFuncPrime(xValues)**2)**(3 / 2)\n",
    "    k = npFunc2Prime(xValues) / denom\n",
    "    A = 1 - k * s\n",
    "    chi = A / np.abs(A)\n",
    "    return A, chi, k\n",
    "\n",
    "def save_plot(fig, axis, filename):\n",
    "    \"\"\"Save the current figure as .pdf and .eps.\n",
    "\n",
    "        Parameters\n",
    "        ---------\n",
    "        fig : matplotlib.figure.Figure\n",
    "            Holds all plot elements.\n",
    "        axis : matplotlib.axes._subplots.AxesSubplot\n",
    "            The subplot which will be saved.\n",
    "        filename : str\n",
    "            Name under which the images are saved.\n",
    "\n",
    "    \"\"\"\n",
    "    fig.savefig('figures/tangent-'+filename+'.pdf', bbox_inches='tight')\n",
    "    fig.savefig('figures/tangent-'+filename+'.eps', bbox_inches='tight', format='eps', dpi=1200)"
   ]
  },
  {
   "cell_type": "code",
   "execution_count": 118,
   "metadata": {},
   "outputs": [],
   "source": [
    "def plotting(\n",
    "    input,\n",
    "    inputSaveFileName,\n",
    "    s=0,\n",
    "    valueLimit=5,\n",
    "    saveFile=False,\n",
    "    ):\n",
    "    \"\"\"Is the method regularly called by the interact method.\n",
    "        Modifies the initial figure by giving it a title etc., handles the user inputs,\n",
    "        controls the different choices,\n",
    "        displays the plot.\n",
    "\n",
    "        Parameters\n",
    "        ----------\n",
    "        input : str\n",
    "            User input that is used as the function that characterizes the initial surface.\n",
    "        inputSaveFileName : str\n",
    "            Name that is used when saving a plot.\n",
    "        s : float\n",
    "            Parameter of how far the initial surface should be pushed along the normals.\n",
    "        valueLimit : integer\n",
    "            Interval limit for the x-values.\n",
    "        saveFile : boolean\n",
    "            If True the plot that it shown after pressing the 'Run interact' button is saved under the name written in the\n",
    "            'Name of Image' textbox.\n",
    "    \"\"\"\n",
    "    xValues = np.arange(-valueLimit, valueLimit, 0.01)\n",
    "    fig.set_figheight(10)\n",
    "    fig.set_figwidth(10)\n",
    "    ax1.set_title(r'Components of tangent vectors ${T(s,x)}$')\n",
    "    #ax1.set_xlabel(r'$x$')\n",
    "    #ax2.set_xlabel(r'$x$')\n",
    "    ax3.set_xlabel(r'$x$')\n",
    "    ax1.set_ylabel(r'${T}_0(s,x)$')\n",
    "    ax2.set_ylabel(r'${T}_1(s,x)$')\n",
    "    ax2.set_xticks(np.arange(-valueLimit, valueLimit+1, .5))\n",
    "    ax1.minorticks_on()\n",
    "    ax2.minorticks_on()\n",
    "    #plt.subplots_adjust(top=0.8)\n",
    "\n",
    "    function = x**2\n",
    "    try:\n",
    "        function = eval(input)\n",
    "    except Exception:\n",
    "        # Ignore error that appears when not done writing\n",
    "        pass\n",
    "    xtangent, ytangent = unit_tangent_vector(xValues, function, s)\n",
    "    A, chi, k = critical_coeff(xValues, function, s)\n",
    "    ax1.plot(xValues, xtangent)\n",
    "    ax2.plot(xValues, ytangent)\n",
    "    ax3.plot(xValues, A, label=r'$\\mathcal{A}$')\n",
    "    ax3.plot(xValues, chi, label=r'$\\chi$')\n",
    "    ax3.plot(xValues, k, label=r'$k$')\n",
    "    #ax3.plot(values, np.zeros(len(values)), color='black')\n",
    "    \n",
    "    # plot red region with x1 and x2 the parameters that parametrize the swallow tail\n",
    "    #ax1.axvspan(x1, x2, alpha=0.2, color='red')\n",
    "    #ax2.axvspan(x1, x2, alpha=0.2, color='red')\n",
    "    #ax3.axvspan(x1, x2, alpha=0.2, color='red')\n",
    "    \n",
    "    ax3.legend(loc='center left', bbox_to_anchor=(1, 0.5))\n",
    "    \n",
    "    # Save plots\n",
    "    if saveFile == True:\n",
    "        filename = str(inputSaveFileName)\n",
    "        save_plot(fig, ax1, filename)\n",
    "    \n",
    "    # Display figure\n",
    "    display(fig)\n",
    "    ax1.cla()\n",
    "    ax2.cla()\n",
    "    ax3.cla()"
   ]
  },
  {
   "cell_type": "code",
   "execution_count": 119,
   "metadata": {},
   "outputs": [],
   "source": [
    "def main():\n",
    "    # Style such that whole text fits\n",
    "    style = {'description_width': 'initial'}\n",
    "    interact_manual(plotting,\n",
    "        input = widgets.Text(\n",
    "            value='x**2',\n",
    "            placeholder='Initial Function, e.g. x**2',\n",
    "            description='Initial Function:',\n",
    "            disabled=False,\n",
    "            style=style\n",
    "        ),\n",
    "        valueLimit = widgets.IntSlider(min=1, max=20, step=1, description='Max. x-Value:', style=style),\n",
    "        s = widgets.FloatSlider(min=-20, max = 20, step = 0.1, description='s', style=style),\n",
    "        saveFile = widgets.Checkbox(value=False, description='Save File', style=style),\n",
    "        inputSaveFileName = widgets.Text(\n",
    "            placeholder='Insert Name of Image',\n",
    "            description='Name of Image',\n",
    "            disabled=False,\n",
    "            style=style\n",
    "        ),\n",
    "    )"
   ]
  },
  {
   "cell_type": "code",
   "execution_count": 120,
   "metadata": {},
   "outputs": [
    {
     "data": {
      "application/vnd.jupyter.widget-view+json": {
       "model_id": "75bdef4af60c472f9afea0f440684084",
       "version_major": 2,
       "version_minor": 0
      },
      "text/plain": [
       "interactive(children=(Text(value='x**2', description='Initial Function:', placeholder='Initial Function, e.g. …"
      ]
     },
     "metadata": {},
     "output_type": "display_data"
    }
   ],
   "source": [
    "main()"
   ]
  }
 ],
 "metadata": {
  "kernelspec": {
   "display_name": "Python 3.9.4 64-bit ('3.9.4')",
   "language": "python",
   "name": "python3"
  },
  "language_info": {
   "codemirror_mode": {
    "name": "ipython",
    "version": 3
   },
   "file_extension": ".py",
   "mimetype": "text/x-python",
   "name": "python",
   "nbconvert_exporter": "python",
   "pygments_lexer": "ipython3",
   "version": "3.9.4"
  },
  "orig_nbformat": 4,
  "vscode": {
   "interpreter": {
    "hash": "cf61bdc054ebd1767f2373d2e23bae97882338c454ec9709da9408656838faa4"
   }
  }
 },
 "nbformat": 4,
 "nbformat_minor": 2
}
